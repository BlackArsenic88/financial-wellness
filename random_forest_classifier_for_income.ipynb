{
 "cells": [
  {
   "cell_type": "markdown",
   "metadata": {},
   "source": [
    "# Random Forest Classifier for Income\n",
    "\n",
    "#### Value: Informs clients on factors most likely to make them money. \n",
    "#### Purpose: Economic growth\n",
    "#### Goal: Predict factors that determine whether an individual earns over $50,000 ($109,000 in 2025) a year\n",
    "#### Subject Area: Business\n",
    "#### Features: 14\n",
    "#### Data: Census data from UCI’s Machine Learning Repository.\n",
    "\n",
    "* `adult.csv`: includes data on capital gains, education, age, work hours per week, capital loss, and more.\n",
    "\n",
    "https://archive.ics.uci.edu/dataset/20/census+income "
   ]
  },
  {
   "cell_type": "markdown",
   "metadata": {},
   "source": [
    "### Extract, Transform, and Load Data"
   ]
  },
  {
   "cell_type": "code",
   "execution_count": null,
   "metadata": {},
   "outputs": [],
   "source": [
    "import pandas as pd\n",
    "import numpy as np\n",
    "import matplotlib.pyplot as plt\n",
    "import seaborn as sns\n",
    "\n",
    "from sklearn.model_selection import train_test_split\n",
    "from sklearn.tree import DecisionTreeClassifier\n",
    "from sklearn.ensemble import RandomForestClassifier, BaggingClassifier, RandomForestRegressor\n",
    "from sklearn import tree\n",
    "from sklearn.linear_model import LogisticRegression\n",
    "from sklearn.metrics import accuracy_score, precision_score, recall_score, f1_score, roc_auc_score"
   ]
  },
  {
   "cell_type": "code",
   "execution_count": null,
   "metadata": {},
   "outputs": [],
   "source": [
    "col_names = ['age', 'workclass', 'fnlwgt','education', 'education-num', \n",
    "'marital-status', 'occupation', 'relationship', 'race', 'sex',\n",
    "'capital-gain','capital-loss', 'hours-per-week','native-country', 'income']\n",
    "df = pd.read_csv('adult.data', header=None, names = col_names)"
   ]
  },
  {
   "cell_type": "code",
   "execution_count": null,
   "metadata": {},
   "outputs": [],
   "source": [
    "#Exploratory data analysis \n",
    "print(df.head())\n",
    "print(df.info())\n",
    "print(df.describe())"
   ]
  },
  {
   "cell_type": "code",
   "execution_count": null,
   "metadata": {},
   "outputs": [],
   "source": [
    "#Distribution of income\n",
    "print(df['income'].value_counts(normalize=True))"
   ]
  },
  {
   "cell_type": "markdown",
   "metadata": {},
   "source": [
    "Data cleaning"
   ]
  },
  {
   "cell_type": "code",
   "execution_count": null,
   "metadata": {},
   "outputs": [],
   "source": [
    "#Cleans columns by stripping extra whitespace for columns of type \" object\"\n",
    "for c in df.select_dtypes(include=['object']).columns:\n",
    "    df[c] = df[c].str.strip()\n",
    "    \n",
    "feature_cols = ['age',\n",
    "       'capital-gain', 'capital-loss', 'hours-per-week', 'sex','race']"
   ]
  },
  {
   "cell_type": "code",
   "execution_count": null,
   "metadata": {},
   "outputs": [],
   "source": [
    "#Creates feature dataframe X with feature columns and dummy variables for categorical features\n",
    "X = pd.get_dummies(df[feature_cols], drop_first=True)\n"
   ]
  },
  {
   "cell_type": "code",
   "execution_count": null,
   "metadata": {},
   "outputs": [],
   "source": [
    "#Creates output variable y which is binary, 0 when income is less than 50k, 1 when it is greather than 50k\n",
    "y = np.where(df.income=='<=50K', 0, 1)"
   ]
  },
  {
   "cell_type": "code",
   "execution_count": null,
   "metadata": {},
   "outputs": [],
   "source": [
    "#Splits data into a train and test set\n",
    "x_train, x_test, y_train, y_test = train_test_split(X, y, random_state=1, test_size=.2)"
   ]
  },
  {
   "cell_type": "markdown",
   "metadata": {},
   "source": [
    "### Build and Tune Random Forest Classifiers by Depth \n",
    "Has default parameters as a baseline to compare other model performances."
   ]
  },
  {
   "cell_type": "code",
   "execution_count": null,
   "metadata": {},
   "outputs": [],
   "source": [
    "#Instantiates random forest classifier, fit and score with default parameters\n",
    "rf = RandomForestClassifier()\n",
    "rf.fit(x_train, y_train)\n",
    "rf.score(x_test, y_test)"
   ]
  },
  {
   "cell_type": "code",
   "execution_count": null,
   "metadata": {},
   "outputs": [],
   "source": [
    "#Tunes the hyperparameter max_depth over a range from 1-25, save scores for test and train set\n",
    "np.random.seed(0)\n",
    "accuracy_train=[]\n",
    "accuracy_test = []\n",
    "depths = range(1,26)\n",
    "for i in depths:\n",
    "    rf = RandomForestClassifier(max_depth=i)\n",
    "    rf.fit(x_train, y_train)\n",
    "    y_pred = rf.predict(x_test)\n",
    "    accuracy_test.append(accuracy_score(y_test, rf.predict(x_test)))\n",
    "    accuracy_train.append(accuracy_score(y_train, rf.predict(x_train)))\n"
   ]
  },
  {
   "cell_type": "code",
   "execution_count": null,
   "metadata": {},
   "outputs": [],
   "source": [
    "#Finds the best accuracy and at what depth that occurs\n",
    "best_acc= np.max(accuracy_test)\n",
    "best_depth = depths[np.argmax(accuracy_test)]\n",
    "print(f'The highest accuracy on the test is achieved when depth: {best_depth}')\n",
    "print(f'The highest accuracy on the test set is: {round(best_acc*100,3)}%')"
   ]
  },
  {
   "cell_type": "code",
   "execution_count": null,
   "metadata": {},
   "outputs": [],
   "source": [
    "# Plots the training and test accuracy of the models versus the max_depth.\n",
    "plt.plot(depths, accuracy_test,'bo--',depths, accuracy_train,'r*:')\n",
    "plt.legend(['test accuracy', 'train accuracy'])\n",
    "plt.xlabel('max depth')\n",
    "plt.ylabel('accuracy')\n",
    "plt.show()"
   ]
  },
  {
   "cell_type": "code",
   "execution_count": null,
   "metadata": {},
   "outputs": [],
   "source": [
    "#Save the best random forest model and save the feature importances in a dataframe\n",
    "best_rf = RandomForestClassifier(max_depth=best_depth)\n",
    "best_rf.fit(x_train, y_train)\n",
    "feature_imp_df = pd.DataFrame(zip(x_train.columns, best_rf.feature_importances_),  columns=['feature', 'importance'])\n",
    "print('Top 5 random forest features:')\n",
    "print(feature_imp_df.sort_values('importance', ascending=False).iloc[0:5])\n"
   ]
  },
  {
   "cell_type": "markdown",
   "metadata": {},
   "source": [
    "### Create Additional Features and Re-Tune"
   ]
  },
  {
   "cell_type": "code",
   "execution_count": null,
   "metadata": {},
   "outputs": [],
   "source": [
    "#Create new feature based on education and native country\n",
    "df['education_bin'] = pd.cut(df['education-num'], [0,9,13,16], labels=['HS or less', 'College to Bachelors', 'Masters or more'])\n",
    "\n",
    "feature_cols = ['age',\n",
    "        'capital-gain', 'capital-loss', 'hours-per-week', 'sex', 'race','education_bin']"
   ]
  },
  {
   "cell_type": "code",
   "execution_count": null,
   "metadata": {},
   "outputs": [],
   "source": [
    "#Uses additional feature and recreate X and test/train split\n",
    "X = pd.get_dummies(df[feature_cols], drop_first=True)\n",
    "\n",
    "x_train, x_test, y_train, y_test = train_test_split(X,y, random_state=1, test_size=.2)"
   ]
  },
  {
   "cell_type": "code",
   "execution_count": null,
   "metadata": {},
   "outputs": [],
   "source": [
    "#Find the best max depth now with the additional two features\n",
    "np.random.seed(0)\n",
    "accuracy_train=[]\n",
    "accuracy_test = []\n",
    "depths = range(1,26)\n",
    "for i in depths:\n",
    "    rf = RandomForestClassifier(max_depth=i)\n",
    "    rf.fit(x_train, y_train)\n",
    "    y_pred = rf.predict(x_test)\n",
    "    accuracy_test.append(accuracy_score(y_test, rf.predict(x_test)))\n",
    "    accuracy_train.append(accuracy_score(y_train, rf.predict(x_train)))\n",
    "    \n",
    "\n"
   ]
  },
  {
   "cell_type": "code",
   "execution_count": null,
   "metadata": {},
   "outputs": [],
   "source": [
    "\n",
    "# Find the largest accuracy and the depth this occurs on the test data. \n",
    "# Compare the results from the previous model tuned.\n",
    "best_acc= np.max(accuracy_test)\n",
    "best_depth = depths[np.argmax(accuracy_test)]\n",
    "print(f'The highest accuracy on the test is achieved when depth is: {best_depth}')\n",
    "print(f'The highest accuracy on the test set is: {round(best_acc*100,3)}%')\n"
   ]
  },
  {
   "cell_type": "code",
   "execution_count": null,
   "metadata": {},
   "outputs": [],
   "source": [
    "\n",
    "# Plots the training and test accuracy of the models versus the max_depth. \n",
    "# Compare the results from the previous model tuned.\n",
    "plt.figure(2)\n",
    "plt.plot(depths, accuracy_test,'bo--',depths, accuracy_train,'r*:')\n",
    "plt.legend(['test accuracy', 'train accuracy'])\n",
    "plt.xlabel('max depth')\n",
    "plt.ylabel('accuracy')\n",
    "plt.show()"
   ]
  },
  {
   "cell_type": "code",
   "execution_count": null,
   "metadata": {},
   "outputs": [],
   "source": [
    "# Refits the random forest model using the max_depth from above\n",
    "# Saves the feature importances in a dataframe. \n",
    "# Sorts the results and print the top five features. \n",
    "# Compares the results from the previous model tuned.\n",
    "best_rf = RandomForestClassifier(max_depth=best_depth)\n",
    "best_rf.fit(x_train, y_train)\n",
    "feature_imp_df = pd.DataFrame(zip(x_train.columns, best_rf.feature_importances_),  columns=['feature', 'importance'])\n",
    "print('Top 5 random forest features:')\n",
    "print(feature_imp_df.sort_values('importance', ascending=False).iloc[0:5])\n"
   ]
  }
 ],
 "metadata": {
  "kernelspec": {
   "display_name": "Python 3",
   "language": "python",
   "name": "python3"
  },
  "language_info": {
   "codemirror_mode": {
    "name": "ipython",
    "version": 3
   },
   "file_extension": ".py",
   "mimetype": "text/x-python",
   "name": "python",
   "nbconvert_exporter": "python",
   "pygments_lexer": "ipython3",
   "version": "3.13.5"
  }
 },
 "nbformat": 4,
 "nbformat_minor": 2
}
